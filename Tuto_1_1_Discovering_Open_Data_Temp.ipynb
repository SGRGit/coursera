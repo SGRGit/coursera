{
  "nbformat": 4,
  "nbformat_minor": 0,
  "metadata": {
    "kernelspec": {
      "display_name": "Python 3",
      "language": "python",
      "name": "python3"
    },
    "language_info": {
      "codemirror_mode": {
        "name": "ipython",
        "version": 3
      },
      "file_extension": ".py",
      "mimetype": "text/x-python",
      "name": "python",
      "nbconvert_exporter": "python",
      "pygments_lexer": "ipython3",
      "version": "3.5.3"
    },
    "colab": {
      "name": "Tuto 1.1 Discovering Open Data.ipynb",
      "provenance": []
    }
  },
  "cells": [
    {
      "cell_type": "markdown",
      "metadata": {
        "id": "TKWMNYxY2KKm",
        "colab_type": "text"
      },
      "source": [
        "<img style=\"float: left;padding: 1.3em\" src=\"https://indico.in2p3.fr/event/18313/logo-786578160.png\">  \n",
        "\n",
        "#  Gravitational Wave Open Data Workshop #2\n",
        "\n",
        "\n",
        "#### Tutorial 1.1: Discovering open data from GW observatories\n",
        "\n",
        "This notebook describes how to discover what data are available from the [Gravitational-Wave Open Science Center (GWOSC)](https://www.gw-openscience.org).\n",
        "    \n",
        "[Click this link to view this tutorial in Google Colaboratory](https://colab.research.google.com/github/gw-odw/odw-2019/blob/master/Day_1/Tuto 1.1 Discovering Open Data.ipynb)"
      ]
    },
    {
      "cell_type": "markdown",
      "metadata": {
        "id": "1ATgSxYt2KKp",
        "colab_type": "text"
      },
      "source": [
        "## Software installation  (execute only if running on a cloud platform or haven't done the installation yet!)\n",
        "\n",
        "First, we need to install the software, which we do so using the `requirements.txt` file provided for this workshop:"
      ]
    },
    {
      "cell_type": "code",
      "metadata": {
        "id": "TEq6gh1i2KKq",
        "colab_type": "code",
        "outputId": "5d80125a-2fe1-4d57-d73f-94787d5e8157",
        "colab": {
          "base_uri": "https://localhost:8080/",
          "height": 476
        }
      },
      "source": [
        "import sys\n",
        "!curl --silent --output requirements.txt https://raw.githubusercontent.com/gw-odw/odw-2019/master/requirements.txt\n",
        "!{sys.executable} -m pip install -q -r requirements.txt"
      ],
      "execution_count": 0,
      "outputs": [
        {
          "output_type": "stream",
          "text": [
            "\u001b[K     |████████████████████████████████| 17.3MB 2.8MB/s \n",
            "\u001b[K     |████████████████████████████████| 29.9MB 1.4MB/s \n",
            "\u001b[K     |████████████████████████████████| 1.3MB 49.3MB/s \n",
            "\u001b[K     |████████████████████████████████| 3.0MB 36.4MB/s \n",
            "\u001b[K     |████████████████████████████████| 1.6MB 38.6MB/s \n",
            "\u001b[K     |████████████████████████████████| 13.5MB 38.0MB/s \n",
            "\u001b[K     |████████████████████████████████| 6.1MB 37.7MB/s \n",
            "\u001b[K     |████████████████████████████████| 24.8MB 95.9MB/s \n",
            "\u001b[K     |████████████████████████████████| 1.6MB 42.4MB/s \n",
            "\u001b[K     |████████████████████████████████| 51kB 21.9MB/s \n",
            "\u001b[K     |████████████████████████████████| 471kB 41.3MB/s \n",
            "\u001b[K     |████████████████████████████████| 798kB 56.2MB/s \n",
            "\u001b[K     |████████████████████████████████| 92kB 30.0MB/s \n",
            "\u001b[K     |████████████████████████████████| 61kB 24.7MB/s \n",
            "\u001b[K     |████████████████████████████████| 2.3MB 31.4MB/s \n",
            "\u001b[K     |████████████████████████████████| 102kB 35.5MB/s \n",
            "\u001b[?25h  Building wheel for PyCBC (setup.py) ... \u001b[?25l\u001b[?25hdone\n",
            "  Building wheel for bilby (setup.py) ... \u001b[?25l\u001b[?25hdone\n",
            "  Building wheel for lscsoft-glue (setup.py) ... \u001b[?25l\u001b[?25hdone\n",
            "  Building wheel for ligo-segments (setup.py) ... \u001b[?25l\u001b[?25hdone\n",
            "  Building wheel for Mako (setup.py) ... \u001b[?25l\u001b[?25hdone\n",
            "  Building wheel for mpld3 (setup.py) ... \u001b[?25l\u001b[?25hdone\n",
            "  Building wheel for emcee (setup.py) ... \u001b[?25l\u001b[?25hdone\n",
            "  Building wheel for corner (setup.py) ... \u001b[?25l\u001b[?25hdone\n",
            "\u001b[31mERROR: datascience 0.10.6 has requirement folium==0.2.1, but you'll have folium 0.8.3 which is incompatible.\u001b[0m\n",
            "\u001b[31mERROR: albumentations 0.1.12 has requirement imgaug<0.2.7,>=0.2.5, but you'll have imgaug 0.2.9 which is incompatible.\u001b[0m\n",
            "\u001b[31mERROR: pycbc 1.13.5 has requirement numpy<1.15.3,>=1.13.0, but you'll have numpy 1.16.2 which is incompatible.\u001b[0m\n"
          ],
          "name": "stdout"
        }
      ]
    },
    {
      "cell_type": "markdown",
      "metadata": {
        "id": "cWadPd9S2KKv",
        "colab_type": "text"
      },
      "source": [
        "**Important:** With Google Colab, you may need to restart the runtime after running the cell above."
      ]
    },
    {
      "cell_type": "markdown",
      "metadata": {
        "id": "EnVTPmlh2KKw",
        "colab_type": "text"
      },
      "source": [
        "In general, we could install just what we need for this tutorial using `pip` as follows:"
      ]
    },
    {
      "cell_type": "code",
      "metadata": {
        "id": "nrui1BFV2KKx",
        "colab_type": "code",
        "outputId": "3e14db62-ac3d-49ab-9600-2c61bf7aea4f",
        "colab": {
          "base_uri": "https://localhost:8080/",
          "height": 34
        }
      },
      "source": [
        "!{sys.executable} -m pip install \"gwosc\""
      ],
      "execution_count": 0,
      "outputs": [
        {
          "output_type": "stream",
          "text": [
            "/bin/bash: {sys.executable}: command not found\n"
          ],
          "name": "stdout"
        }
      ]
    },
    {
      "cell_type": "markdown",
      "metadata": {
        "id": "LiLCyffJ2KK0",
        "colab_type": "text"
      },
      "source": [
        "<div class=\"alert alert-info\">Here we use <code>{sys.executable} -m pip install</code>, which is just a fancy way of saying <code>pip install ...</code></div>"
      ]
    },
    {
      "cell_type": "markdown",
      "metadata": {
        "id": "nxx2oQ7C2KK1",
        "colab_type": "text"
      },
      "source": [
        "## Querying for event information\n",
        "\n",
        "The gwosc.datasets module provides tools to search for datasets, including filtering on GPS times.\n",
        "\n",
        "For example, we can search for what event datasets are available:"
      ]
    },
    {
      "cell_type": "code",
      "metadata": {
        "id": "5E6S4xHx2KK2",
        "colab_type": "code",
        "outputId": "5da8885e-6102-4a3e-e503-08aab7d3cb42",
        "colab": {}
      },
      "source": [
        "from gwosc.datasets import find_datasets\n",
        "events = find_datasets(type=\"event\")\n",
        "print(events)"
      ],
      "execution_count": 0,
      "outputs": [
        {
          "output_type": "stream",
          "text": [
            "['151008', '151012A', '151116', '161202', '161217', '170208', '170219', '170405', '170412', '170423', '170616', '170630', '170705', '170720', 'GW150914', 'GW151012', 'GW151226', 'GW170104', 'GW170608', 'GW170729', 'GW170809', 'GW170814', 'GW170817', 'GW170818', 'GW170823']\n"
          ],
          "name": "stdout"
        }
      ]
    },
    {
      "cell_type": "markdown",
      "metadata": {
        "id": "8Jx6iipv2KK5",
        "colab_type": "text"
      },
      "source": [
        "As of O2, there are 25 event datasets available; 11 of those are confident detections (with the `'GW'` prefix), the other are _marginal_ detections. For more details, see [GWTC-1](https://www.gw-openscience.org/GWTC-1/). \n",
        "\n",
        "`find_datasets` also accepts a `detector` keyword to return only those datasets that include data for that detector:"
      ]
    },
    {
      "cell_type": "code",
      "metadata": {
        "id": "Iv_8NbVm2KK5",
        "colab_type": "code",
        "outputId": "7e285c57-c32e-4c36-ca34-9a7116edf780",
        "colab": {}
      },
      "source": [
        "print(find_datasets(type=\"event\", detector=\"V1\"))\n",
        "print(find_datasets(type=\"event\", detector=\"G1\"))"
      ],
      "execution_count": 0,
      "outputs": [
        {
          "output_type": "stream",
          "text": [
            "['GW170729', 'GW170809', 'GW170814', 'GW170817', 'GW170818']\n",
            "['GW170817']\n"
          ],
          "name": "stdout"
        }
      ]
    },
    {
      "cell_type": "markdown",
      "metadata": {
        "id": "OKSarIn42KK8",
        "colab_type": "text"
      },
      "source": [
        "`find_datasets` also accepts a `segment` keyword to narrow results based on GPS time:"
      ]
    },
    {
      "cell_type": "code",
      "metadata": {
        "id": "kpBz7nvA2KK9",
        "colab_type": "code",
        "outputId": "c1b48de8-8b46-4996-c458-4530007c2d08",
        "colab": {}
      },
      "source": [
        "print(find_datasets(type=\"event\", detector=\"L1\", segment=(1164556817, 1187733618)))"
      ],
      "execution_count": 0,
      "outputs": [
        {
          "output_type": "stream",
          "text": [
            "['161202', '161217', '170208', '170219', '170405', '170412', '170423', '170616', '170630', '170705', '170720', 'GW170104', 'GW170608', 'GW170729', 'GW170809', 'GW170814', 'GW170817', 'GW170818', 'GW170823']\n"
          ],
          "name": "stdout"
        }
      ]
    },
    {
      "cell_type": "markdown",
      "metadata": {
        "id": "4VXe9cJ92KLA",
        "colab_type": "text"
      },
      "source": [
        "Using `gwosc.datasets.event_gps`, we can query for the GPS time of a specific event:"
      ]
    },
    {
      "cell_type": "code",
      "metadata": {
        "id": "6W5mTe_12KLB",
        "colab_type": "code",
        "outputId": "46bf0058-0347-4035-984d-814289fd66f2",
        "colab": {}
      },
      "source": [
        "from gwosc.datasets import event_gps\n",
        "gps = event_gps('GW170817')\n",
        "print(gps)"
      ],
      "execution_count": 0,
      "outputs": [
        {
          "output_type": "stream",
          "text": [
            "1187008882.4\n"
          ],
          "name": "stdout"
        }
      ]
    },
    {
      "cell_type": "markdown",
      "metadata": {
        "id": "K2n8mmPo2KLE",
        "colab_type": "text"
      },
      "source": [
        "<div class=\"alert alert-info\">All of these times are returned in the GPS time system, which counts the number of seconds that have elapsed since the start of the GPS epoch at midnight (00:00) on January 6th 1980. GWOSC provides a <a href=\"https://www.gw-openscience.org/gps/\">GPS time converter</a> you can use to translate into datetime, or you can use <a href=\"https://gwpy.github.io/docs/stable/time/\"><code>gwpy.time</code></a>.</div>"
      ]
    },
    {
      "cell_type": "markdown",
      "metadata": {
        "id": "9Y16gH8-2KLE",
        "colab_type": "text"
      },
      "source": [
        "We can query for the GPS time interval for an observing run:"
      ]
    },
    {
      "cell_type": "code",
      "metadata": {
        "id": "Pj5Mcmg-2KLF",
        "colab_type": "code",
        "outputId": "809b3f23-47f9-421b-e8bb-a9e6b50b74cb",
        "colab": {}
      },
      "source": [
        "from gwosc.datasets import run_segment\n",
        "print(run_segment('O1'))"
      ],
      "execution_count": 0,
      "outputs": [
        {
          "output_type": "stream",
          "text": [
            "(1126051217, 1137254417)\n"
          ],
          "name": "stdout"
        }
      ]
    },
    {
      "cell_type": "markdown",
      "metadata": {
        "id": "ldB86lz_2KLI",
        "colab_type": "text"
      },
      "source": [
        "## Querying for data files\n",
        "\n",
        "The `gwosc.locate` module provides a function to find the URLs of data files associated with a given dataset.\n",
        "\n",
        "For event datasets, one can get the list of URLs using only the event name:"
      ]
    },
    {
      "cell_type": "code",
      "metadata": {
        "id": "jtraQa_Y2KLJ",
        "colab_type": "code",
        "outputId": "b7661cce-4729-4f2a-ad37-b3010697eee8",
        "colab": {}
      },
      "source": [
        "from gwosc.locate import get_event_urls\n",
        "urls = get_event_urls('GW150914')\n",
        "print(urls)"
      ],
      "execution_count": 0,
      "outputs": [
        {
          "output_type": "stream",
          "text": [
            "['https://www.gw-osc.org/catalog/GWTC-1-confident/data/GW150914/H-H1_GWOSC_4KHZ_R1-1126259447-32.hdf5', 'https://www.gw-osc.org/catalog/GWTC-1-confident/data/GW150914/L-L1_GWOSC_4KHZ_R1-1126259447-32.hdf5', 'https://www.gw-osc.org/catalog/GWTC-1-confident/data/GW150914/H-H1_GWOSC_4KHZ_R1-1126257415-4096.hdf5', 'https://www.gw-osc.org/catalog/GWTC-1-confident/data/GW150914/L-L1_GWOSC_4KHZ_R1-1126257415-4096.hdf5']\n"
          ],
          "name": "stdout"
        }
      ]
    },
    {
      "cell_type": "markdown",
      "metadata": {
        "id": "m4W4HlON2KLL",
        "colab_type": "text"
      },
      "source": [
        "By default, this function returns all of the files associated with a given event, which isn't particularly helpful. However, we can can filter on any of these by using keyword arguments, for example to get the URL for the 32-second file for the LIGO-Livingston detector:"
      ]
    },
    {
      "cell_type": "code",
      "metadata": {
        "id": "fhXtJAsq2KLM",
        "colab_type": "code",
        "outputId": "ba46f45c-bbe0-4323-c050-cdbe87157ab8",
        "colab": {}
      },
      "source": [
        "urls = get_event_urls('GW150914', duration=32, detector='L1')\n",
        "print(urls)"
      ],
      "execution_count": 0,
      "outputs": [
        {
          "output_type": "stream",
          "text": [
            "['https://www.gw-osc.org/catalog/GWTC-1-confident/data/GW150914/L-L1_GWOSC_4KHZ_R1-1126259447-32.hdf5']\n"
          ],
          "name": "stdout"
        }
      ]
    },
    {
      "cell_type": "markdown",
      "metadata": {
        "id": "jGEu0-Sa2KLP",
        "colab_type": "text"
      },
      "source": [
        "# Exercises\n",
        "\n",
        "Now that you've seen examples of how to query for dataset information using the `gwosc` package, please try and complete the following exercies using that interface:\n",
        "\n",
        "- How many months did S6 last?\n",
        "- How many events were detected during O1?\n",
        "- What file URL contains data for V1 4096 seconds around GW170817?"
      ]
    }
  ]
}